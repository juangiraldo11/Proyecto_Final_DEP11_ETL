{
 "cells": [
  {
   "cell_type": "code",
   "execution_count": 44,
   "id": "50411b47-7fcb-42b3-940f-8ad94d052187",
   "metadata": {
    "tags": []
   },
   "outputs": [],
   "source": [
    "import pandas as pd"
   ]
  },
  {
   "cell_type": "code",
   "execution_count": 45,
   "id": "f36ad9e5-7aa4-4f8f-ac4f-307e9b40d59b",
   "metadata": {
    "tags": []
   },
   "outputs": [],
   "source": [
    "headers_files = {\n",
    "    'categories': [\"category_id\",\"category_department_id\",\"category_name\"],\n",
    "    'products': [\"product_id\",\"product_category_id\",\"product_name\",\"product_description\",\"product_price\",\"product_image\"],\n",
    "    'departments': [\"department_id\",\"department_name\"]\n",
    "    }"
   ]
  },
  {
   "cell_type": "code",
   "execution_count": 46,
   "id": "a0c2d4fc-61f5-43a4-8d2f-60ced2b45fac",
   "metadata": {
    "tags": []
   },
   "outputs": [],
   "source": [
    "df_categories = pd.read_csv('./data/categories',names=headers_files['categories'],sep=\"|\")\n",
    "df_products = pd.read_csv('./data/products',names=headers_files['products'],sep=\"|\")\n",
    "df_departments = pd.read_csv('./data/departments',names=headers_files['departments'],sep=\"|\")"
   ]
  },
  {
   "cell_type": "code",
   "execution_count": 47,
   "id": "3ce398f6-f314-4e6c-a02f-111bbe0bdcf7",
   "metadata": {
    "tags": []
   },
   "outputs": [],
   "source": [
    "dfs =[df_categories,\n",
    "    df_products,\n",
    "    df_departments]"
   ]
  },
  {
   "cell_type": "code",
   "execution_count": 48,
   "id": "000a1260-e4fb-4f9b-80de-42959151532f",
   "metadata": {
    "tags": []
   },
   "outputs": [],
   "source": [
    "import os\n",
    "from google.cloud.storage import Client"
   ]
  },
  {
   "cell_type": "code",
   "execution_count": 49,
   "id": "9dd6e7ad-40aa-4f96-adff-3a77b4e7234e",
   "metadata": {
    "tags": []
   },
   "outputs": [],
   "source": [
    "collections = [\n",
    "    'categories',\n",
    "    'products',\n",
    "    'departments',\n",
    "]"
   ]
  },
  {
   "cell_type": "code",
   "execution_count": 50,
   "id": "321a599f-6843-4f49-9a4a-53f64bb896b6",
   "metadata": {
    "tags": []
   },
   "outputs": [],
   "source": [
    "os.environ[\"GOOGLE_APPLICATION_CREDENTIALS\"]=\"/user/app/dep11-proyecto-final-pyhton-5c5b86f3e8ff.json\"\n"
   ]
  },
  {
   "cell_type": "code",
   "execution_count": 51,
   "id": "d39e733b-5012-486e-96c7-d63c5d9481ea",
   "metadata": {
    "tags": []
   },
   "outputs": [],
   "source": [
    "def load_cloud_storage(df,file_name):\n",
    "    client = Client()\n",
    "    bucket = client.get_bucket('proyecto-final-dep11')\n",
    "    bucket.blob(f\"retail/{file_name}\").upload_from_string(df.to_csv(encoding = \"utf-8\", index=False), 'text/csv')"
   ]
  },
  {
   "cell_type": "code",
   "execution_count": 52,
   "id": "57b83c00-9e44-42d7-bb04-4cf7bf124f3a",
   "metadata": {
    "tags": []
   },
   "outputs": [],
   "source": [
    "def main():\n",
    "\n",
    "   for collection, df in zip(collections, dfs):\n",
    "    file_name = f\"{collection}\"\n",
    "    load_cloud_storage(df, file_name)\n",
    "       "
   ]
  },
  {
   "cell_type": "code",
   "execution_count": 53,
   "id": "12a65b06-9c8b-46d8-8dce-0c80177dc6cb",
   "metadata": {
    "tags": []
   },
   "outputs": [],
   "source": [
    "main()"
   ]
  },
  {
   "cell_type": "code",
   "execution_count": null,
   "id": "0bd7b772-fc5b-460b-8378-0cc6a7e68cea",
   "metadata": {},
   "outputs": [],
   "source": []
  }
 ],
 "metadata": {
  "kernelspec": {
   "display_name": "Python 3 (ipykernel)",
   "language": "python",
   "name": "python3"
  },
  "language_info": {
   "codemirror_mode": {
    "name": "ipython",
    "version": 3
   },
   "file_extension": ".py",
   "mimetype": "text/x-python",
   "name": "python",
   "nbconvert_exporter": "python",
   "pygments_lexer": "ipython3",
   "version": "3.9.16"
  }
 },
 "nbformat": 4,
 "nbformat_minor": 5
}
