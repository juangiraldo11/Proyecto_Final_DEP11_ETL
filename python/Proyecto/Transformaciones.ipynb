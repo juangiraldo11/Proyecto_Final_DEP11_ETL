{
 "cells": [
  {
   "cell_type": "code",
   "execution_count": 30,
   "id": "c3d43ab0-f41d-439d-88e3-17966334d9a5",
   "metadata": {
    "tags": []
   },
   "outputs": [],
   "source": [
    "from process.Extract import Extract\n",
    "from process.Transform import Transform\n",
    "from process.Load import Load\n",
    "import pandas as pd"
   ]
  },
  {
   "cell_type": "code",
   "execution_count": 31,
   "id": "bfb3ffcf-c8ce-4ebf-b1b6-2733adf2454c",
   "metadata": {
    "tags": []
   },
   "outputs": [],
   "source": [
    "extract = Extract()\n",
    "transform = Transform()\n",
    "load = Load()"
   ]
  },
  {
   "cell_type": "code",
   "execution_count": 32,
   "id": "08614ca1-f8cc-422a-8e89-0d813bb05bc2",
   "metadata": {
    "tags": []
   },
   "outputs": [],
   "source": [
    "df_customers = extract.read_cloud_storage(\"datalake_proyecto_final\",\"landing/customers\")\n",
    "df_orders = extract.read_cloud_storage(\"datalake_proyecto_final\", \"landing/orders\") \n",
    "df_order_items = extract.read_cloud_storage(\"datalake_proyecto_final\", \"landing/order_items\") \n",
    "df_departments = extract.read_cloud_storage(\"datalake_proyecto_final\", \"landing/departments\") \n",
    "df_categories = extract.read_cloud_storage(\"datalake_proyecto_final\",\"landing/categories\") \n",
    "df_products = extract.read_cloud_storage(\"datalake_proyecto_final\",\"landing/products\") "
   ]
  },
  {
   "cell_type": "code",
   "execution_count": 33,
   "id": "707c0b19-99cd-4540-a4cd-957ca49e3af9",
   "metadata": {
    "tags": []
   },
   "outputs": [],
   "source": [
    "df_enunciado1 = transform.enunciado1(df_customers, df_orders, df_order_items)"
   ]
  },
  {
   "cell_type": "code",
   "execution_count": 34,
   "id": "324edcf3-7b88-40c5-b89c-fa0b2526e347",
   "metadata": {
    "tags": []
   },
   "outputs": [
    {
     "data": {
      "text/html": [
       "<div>\n",
       "<style scoped>\n",
       "    .dataframe tbody tr th:only-of-type {\n",
       "        vertical-align: middle;\n",
       "    }\n",
       "\n",
       "    .dataframe tbody tr th {\n",
       "        vertical-align: top;\n",
       "    }\n",
       "\n",
       "    .dataframe thead th {\n",
       "        text-align: right;\n",
       "    }\n",
       "</style>\n",
       "<table border=\"1\" class=\"dataframe\">\n",
       "  <thead>\n",
       "    <tr style=\"text-align: right;\">\n",
       "      <th></th>\n",
       "      <th>customer_id</th>\n",
       "      <th>customer_fname</th>\n",
       "      <th>customer_lname</th>\n",
       "      <th>customer_email</th>\n",
       "      <th>quantity_item_total</th>\n",
       "      <th>total</th>\n",
       "    </tr>\n",
       "  </thead>\n",
       "  <tbody>\n",
       "    <tr>\n",
       "      <th>0</th>\n",
       "      <td>791</td>\n",
       "      <td>Mary</td>\n",
       "      <td>Smith</td>\n",
       "      <td>XXXXXXXXX</td>\n",
       "      <td>82</td>\n",
       "      <td>10524.17</td>\n",
       "    </tr>\n",
       "    <tr>\n",
       "      <th>1</th>\n",
       "      <td>8766</td>\n",
       "      <td>Mary</td>\n",
       "      <td>Duncan</td>\n",
       "      <td>XXXXXXXXX</td>\n",
       "      <td>87</td>\n",
       "      <td>9296.14</td>\n",
       "    </tr>\n",
       "    <tr>\n",
       "      <th>2</th>\n",
       "      <td>1657</td>\n",
       "      <td>Betty</td>\n",
       "      <td>Phillips</td>\n",
       "      <td>XXXXXXXXX</td>\n",
       "      <td>111</td>\n",
       "      <td>9223.71</td>\n",
       "    </tr>\n",
       "    <tr>\n",
       "      <th>3</th>\n",
       "      <td>2641</td>\n",
       "      <td>Betty</td>\n",
       "      <td>Spears</td>\n",
       "      <td>XXXXXXXXX</td>\n",
       "      <td>90</td>\n",
       "      <td>9130.92</td>\n",
       "    </tr>\n",
       "    <tr>\n",
       "      <th>4</th>\n",
       "      <td>1288</td>\n",
       "      <td>Evelyn</td>\n",
       "      <td>Thompson</td>\n",
       "      <td>XXXXXXXXX</td>\n",
       "      <td>89</td>\n",
       "      <td>9019.11</td>\n",
       "    </tr>\n",
       "  </tbody>\n",
       "</table>\n",
       "</div>"
      ],
      "text/plain": [
       "   customer_id customer_fname customer_lname customer_email   \n",
       "0          791           Mary          Smith      XXXXXXXXX  \\\n",
       "1         8766           Mary         Duncan      XXXXXXXXX   \n",
       "2         1657          Betty       Phillips      XXXXXXXXX   \n",
       "3         2641          Betty         Spears      XXXXXXXXX   \n",
       "4         1288         Evelyn       Thompson      XXXXXXXXX   \n",
       "\n",
       "   quantity_item_total     total  \n",
       "0                   82  10524.17  \n",
       "1                   87   9296.14  \n",
       "2                  111   9223.71  \n",
       "3                   90   9130.92  \n",
       "4                   89   9019.11  "
      ]
     },
     "execution_count": 34,
     "metadata": {},
     "output_type": "execute_result"
    }
   ],
   "source": [
    "df_enunciado1.head()"
   ]
  },
  {
   "cell_type": "code",
   "execution_count": 25,
   "id": "c29777bc-db6e-4921-8c61-3f6ef0a615e8",
   "metadata": {
    "tags": []
   },
   "outputs": [],
   "source": [
    "df_enunciado2 = transform.enunciado2(df_order_items, df_products,df_categories)"
   ]
  },
  {
   "cell_type": "code",
   "execution_count": 26,
   "id": "5ac318f2-12c2-4600-a9aa-186644e7765e",
   "metadata": {
    "tags": []
   },
   "outputs": [
    {
     "data": {
      "text/html": [
       "<div>\n",
       "<style scoped>\n",
       "    .dataframe tbody tr th:only-of-type {\n",
       "        vertical-align: middle;\n",
       "    }\n",
       "\n",
       "    .dataframe tbody tr th {\n",
       "        vertical-align: top;\n",
       "    }\n",
       "\n",
       "    .dataframe thead th {\n",
       "        text-align: right;\n",
       "    }\n",
       "</style>\n",
       "<table border=\"1\" class=\"dataframe\">\n",
       "  <thead>\n",
       "    <tr style=\"text-align: right;\">\n",
       "      <th></th>\n",
       "      <th>category_name</th>\n",
       "      <th>item_quantity</th>\n",
       "      <th>total</th>\n",
       "    </tr>\n",
       "  </thead>\n",
       "  <tbody>\n",
       "    <tr>\n",
       "      <th>0</th>\n",
       "      <td>Accessories</td>\n",
       "      <td>5349</td>\n",
       "      <td>133671</td>\n",
       "    </tr>\n",
       "    <tr>\n",
       "      <th>1</th>\n",
       "      <td>As Seen on  TV!</td>\n",
       "      <td>206</td>\n",
       "      <td>20597</td>\n",
       "    </tr>\n",
       "    <tr>\n",
       "      <th>2</th>\n",
       "      <td>Baseball &amp; Softball</td>\n",
       "      <td>1785</td>\n",
       "      <td>94057</td>\n",
       "    </tr>\n",
       "    <tr>\n",
       "      <th>3</th>\n",
       "      <td>Basketball</td>\n",
       "      <td>67</td>\n",
       "      <td>27099</td>\n",
       "    </tr>\n",
       "    <tr>\n",
       "      <th>4</th>\n",
       "      <td>Boxing &amp; MMA</td>\n",
       "      <td>1265</td>\n",
       "      <td>85205</td>\n",
       "    </tr>\n",
       "  </tbody>\n",
       "</table>\n",
       "</div>"
      ],
      "text/plain": [
       "         category_name  item_quantity   total\n",
       "0          Accessories           5349  133671\n",
       "1      As Seen on  TV!            206   20597\n",
       "2  Baseball & Softball           1785   94057\n",
       "3           Basketball             67   27099\n",
       "4         Boxing & MMA           1265   85205"
      ]
     },
     "execution_count": 26,
     "metadata": {},
     "output_type": "execute_result"
    }
   ],
   "source": [
    "df_enunciado2.head()"
   ]
  },
  {
   "cell_type": "code",
   "execution_count": 27,
   "id": "42e0515b-397d-422d-a6cc-cdb1e4f7803b",
   "metadata": {
    "tags": []
   },
   "outputs": [],
   "source": [
    "df_mi_enunciado = transform.mi_enunciado(df_customers, df_orders, df_order_items, df_products, df_categories)"
   ]
  },
  {
   "cell_type": "code",
   "execution_count": 28,
   "id": "30bd82d2-012b-4768-8973-5928d040f955",
   "metadata": {
    "tags": []
   },
   "outputs": [
    {
     "data": {
      "text/html": [
       "<div>\n",
       "<style scoped>\n",
       "    .dataframe tbody tr th:only-of-type {\n",
       "        vertical-align: middle;\n",
       "    }\n",
       "\n",
       "    .dataframe tbody tr th {\n",
       "        vertical-align: top;\n",
       "    }\n",
       "\n",
       "    .dataframe thead th {\n",
       "        text-align: right;\n",
       "    }\n",
       "</style>\n",
       "<table border=\"1\" class=\"dataframe\">\n",
       "  <thead>\n",
       "    <tr style=\"text-align: right;\">\n",
       "      <th></th>\n",
       "      <th>customer_city</th>\n",
       "      <th>category_name</th>\n",
       "    </tr>\n",
       "  </thead>\n",
       "  <tbody>\n",
       "    <tr>\n",
       "      <th>0</th>\n",
       "      <td>Aguadilla</td>\n",
       "      <td>Cleats</td>\n",
       "    </tr>\n",
       "    <tr>\n",
       "      <th>1</th>\n",
       "      <td>Alameda</td>\n",
       "      <td>Cleats</td>\n",
       "    </tr>\n",
       "    <tr>\n",
       "      <th>2</th>\n",
       "      <td>Albany</td>\n",
       "      <td>Women's Apparel</td>\n",
       "    </tr>\n",
       "    <tr>\n",
       "      <th>3</th>\n",
       "      <td>Albuquerque</td>\n",
       "      <td>Cleats</td>\n",
       "    </tr>\n",
       "    <tr>\n",
       "      <th>4</th>\n",
       "      <td>Algonquin</td>\n",
       "      <td>Cleats</td>\n",
       "    </tr>\n",
       "  </tbody>\n",
       "</table>\n",
       "</div>"
      ],
      "text/plain": [
       "  customer_city    category_name\n",
       "0     Aguadilla           Cleats\n",
       "1       Alameda           Cleats\n",
       "2        Albany  Women's Apparel\n",
       "3   Albuquerque           Cleats\n",
       "4     Algonquin           Cleats"
      ]
     },
     "execution_count": 28,
     "metadata": {},
     "output_type": "execute_result"
    }
   ],
   "source": [
    "df_mi_enunciado.head()"
   ]
  },
  {
   "cell_type": "code",
   "execution_count": 17,
   "id": "77337c32-29f0-41c8-8473-f8f2919ae2ba",
   "metadata": {
    "tags": []
   },
   "outputs": [],
   "source": [
    "df_enunciado3 = transform.enunciado3(df_customers, df_orders, df_order_items, df_products, df_categories)"
   ]
  },
  {
   "cell_type": "code",
   "execution_count": 18,
   "id": "0d5e9672-5666-4fd6-aaaf-25c37031a3f3",
   "metadata": {
    "tags": []
   },
   "outputs": [],
   "source": [
    "df_enunciado4 = transform.enunciado4(df_customers, df_orders, df_order_items, df_products, df_categories)"
   ]
  },
  {
   "cell_type": "code",
   "execution_count": 19,
   "id": "0852e1d5-13f7-42e9-9c58-beec96891109",
   "metadata": {
    "tags": []
   },
   "outputs": [],
   "source": [
    "load.load_to_cloud_storage(df_enunciado1,\"datalake_proyecto_final\", \"gold/df_enunciado1\")\n",
    "load.load_to_cloud_storage(df_enunciado2,\"datalake_proyecto_final\", \"gold/df_enunciado2\")\n",
    "load.load_to_cloud_storage(df_enunciado3,\"datalake_proyecto_final\", \"gold/df_enunciado3\")\n",
    "load.load_to_cloud_storage(df_enunciado4,\"datalake_proyecto_final\", \"gold/df_enunciado4\")\n",
    "load.load_to_cloud_storage(df_mi_enunciado,\"datalake_proyecto_final\", \"gold/df_mi_enunciado\")"
   ]
  },
  {
   "cell_type": "code",
   "execution_count": null,
   "id": "118e6bcb-a363-44a9-90db-c944c0d5c00f",
   "metadata": {},
   "outputs": [],
   "source": []
  }
 ],
 "metadata": {
  "kernelspec": {
   "display_name": "Python 3 (ipykernel)",
   "language": "python",
   "name": "python3"
  },
  "language_info": {
   "codemirror_mode": {
    "name": "ipython",
    "version": 3
   },
   "file_extension": ".py",
   "mimetype": "text/x-python",
   "name": "python",
   "nbconvert_exporter": "python",
   "pygments_lexer": "ipython3",
   "version": "3.9.16"
  }
 },
 "nbformat": 4,
 "nbformat_minor": 5
}
